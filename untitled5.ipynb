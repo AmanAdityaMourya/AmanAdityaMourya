{
  "nbformat": 4,
  "nbformat_minor": 0,
  "metadata": {
    "colab": {
      "provenance": [],
      "authorship_tag": "ABX9TyMjIDXrvXC/SGngl2ZfCJBe",
      "include_colab_link": true
    },
    "kernelspec": {
      "name": "python3",
      "display_name": "Python 3"
    },
    "language_info": {
      "name": "python"
    }
  },
  "cells": [
    {
      "cell_type": "markdown",
      "metadata": {
        "id": "view-in-github",
        "colab_type": "text"
      },
      "source": [
        "<a href=\"https://colab.research.google.com/github/AmanAdityaMourya/AmanAdityaMourya/blob/main/untitled5.ipynb\" target=\"_parent\"><img src=\"https://colab.research.google.com/assets/colab-badge.svg\" alt=\"Open In Colab\"/></a>"
      ]
    },
    {
      "cell_type": "code",
      "execution_count": null,
      "metadata": {
        "colab": {
          "base_uri": "https://localhost:8080/"
        },
        "id": "1V0bxfSg1w-3",
        "outputId": "7b343345-ad7e-45be-ab92-1145983bd625"
      },
      "outputs": [
        {
          "output_type": "stream",
          "name": "stdout",
          "text": [
            "enter the email : Aman@gmail.com\n",
            "Aman\n"
          ]
        }
      ],
      "source": [
        "s = input('enter the email : ')\n",
        "\n",
        "a = s.find('@')\n",
        "print(s[0:a])\n",
        "\n"
      ]
    },
    {
      "cell_type": "code",
      "source": [
        "s = input('enter the string :')\n",
        "\n",
        "b = s.count('a')\n",
        "print(b)"
      ],
      "metadata": {
        "colab": {
          "base_uri": "https://localhost:8080/"
        },
        "id": "XLgHsqmy3SKe",
        "outputId": "faa29f74-5aa0-463b-84ee-e67e88249e45"
      },
      "execution_count": null,
      "outputs": [
        {
          "output_type": "stream",
          "name": "stdout",
          "text": [
            "enter the string :good morning\n",
            "0\n"
          ]
        }
      ]
    },
    {
      "cell_type": "code",
      "source": [
        "s = input('enter the string :')\n",
        "term = input(\"what would you like to find :\")\n",
        "\n",
        "counter = 0\n",
        "for i in s:\n",
        "  if i == term:\n",
        "    counter += 1\n",
        "\n",
        "print(f\"The Frequency of {term} is {counter} times in this string\")"
      ],
      "metadata": {
        "colab": {
          "base_uri": "https://localhost:8080/"
        },
        "id": "yIdbaLfT4ZlR",
        "outputId": "a6f3673d-add4-4346-d6c0-2dc71eda2a53"
      },
      "execution_count": null,
      "outputs": [
        {
          "output_type": "stream",
          "name": "stdout",
          "text": [
            "enter the string :my name is aman aditya mourya i love to dance and play cricket\n",
            "what would you like to find :a\n",
            "The Frequency of a is 9 times in this string\n"
          ]
        }
      ]
    },
    {
      "cell_type": "code",
      "source": [
        "s = input('enter the string :')\n",
        "term = input(\"what would you like to remove :\")\n",
        "\n",
        "# print(s.replace(term,\"\"))\n",
        "result = \"\"\n",
        "for i in s:\n",
        "  if term != i:\n",
        "    result = result + i\n",
        "print(result)\n",
        "\n"
      ],
      "metadata": {
        "colab": {
          "base_uri": "https://localhost:8080/"
        },
        "id": "URXusu3z7h5G",
        "outputId": "ff0454fc-01c8-4f88-a88b-75402db870ae"
      },
      "execution_count": null,
      "outputs": [
        {
          "output_type": "stream",
          "name": "stdout",
          "text": [
            "enter the string :amanadityamourya\n",
            "what would you like to remove :a\n",
            "mnditymoury\n"
          ]
        }
      ]
    },
    {
      "cell_type": "code",
      "source": [
        "s = input('enter the name palindronic sequence ')\n",
        "if s[i] == s[-i]:\n",
        "  print('yes')\n",
        "else:\n",
        "  print('no, it is not a that thing you are searching for')\n",
        "\n",
        "\n"
      ],
      "metadata": {
        "colab": {
          "base_uri": "https://localhost:8080/",
          "height": 228
        },
        "id": "ivPVHAH18nd8",
        "outputId": "d36cccb4-593b-4ec7-b5a5-931abb43d044"
      },
      "execution_count": null,
      "outputs": [
        {
          "name": "stdout",
          "output_type": "stream",
          "text": [
            "enter the name palindronic sequence j\n"
          ]
        },
        {
          "output_type": "error",
          "ename": "TypeError",
          "evalue": "string indices must be integers",
          "traceback": [
            "\u001b[0;31m---------------------------------------------------------------------------\u001b[0m",
            "\u001b[0;31mTypeError\u001b[0m                                 Traceback (most recent call last)",
            "\u001b[0;32m<ipython-input-17-abdc730b0a12>\u001b[0m in \u001b[0;36m<cell line: 2>\u001b[0;34m()\u001b[0m\n\u001b[1;32m      1\u001b[0m \u001b[0ms\u001b[0m \u001b[0;34m=\u001b[0m \u001b[0minput\u001b[0m\u001b[0;34m(\u001b[0m\u001b[0;34m'enter the name palindronic sequence '\u001b[0m\u001b[0;34m)\u001b[0m\u001b[0;34m\u001b[0m\u001b[0;34m\u001b[0m\u001b[0m\n\u001b[0;32m----> 2\u001b[0;31m \u001b[0;32mif\u001b[0m \u001b[0ms\u001b[0m\u001b[0;34m[\u001b[0m\u001b[0mi\u001b[0m\u001b[0;34m]\u001b[0m \u001b[0;34m==\u001b[0m \u001b[0ms\u001b[0m\u001b[0;34m[\u001b[0m\u001b[0;34m-\u001b[0m\u001b[0mi\u001b[0m\u001b[0;34m]\u001b[0m\u001b[0;34m:\u001b[0m\u001b[0;34m\u001b[0m\u001b[0;34m\u001b[0m\u001b[0m\n\u001b[0m\u001b[1;32m      3\u001b[0m   \u001b[0mprint\u001b[0m\u001b[0;34m(\u001b[0m\u001b[0;34m'yes'\u001b[0m\u001b[0;34m)\u001b[0m\u001b[0;34m\u001b[0m\u001b[0;34m\u001b[0m\u001b[0m\n\u001b[1;32m      4\u001b[0m \u001b[0;32melse\u001b[0m\u001b[0;34m:\u001b[0m\u001b[0;34m\u001b[0m\u001b[0;34m\u001b[0m\u001b[0m\n\u001b[1;32m      5\u001b[0m   \u001b[0mprint\u001b[0m\u001b[0;34m(\u001b[0m\u001b[0;34m'no, it is not a that thing you are searching for'\u001b[0m\u001b[0;34m)\u001b[0m\u001b[0;34m\u001b[0m\u001b[0;34m\u001b[0m\u001b[0m\n",
            "\u001b[0;31mTypeError\u001b[0m: string indices must be integers"
          ]
        }
      ]
    },
    {
      "cell_type": "code",
      "source": [
        "s = input('enter the string : ')\n",
        "\n",
        "flag = True\n",
        "for i in range(0,len(s)//2):\n",
        "  if s[i] != s[len(s)-i-1]:\n",
        "    flag = flase\n",
        "    print('it is no a palindrome')\n",
        "    break\n",
        "if flag == True:\n",
        "  print('it is a palindrome')\n",
        "\n"
      ],
      "metadata": {
        "colab": {
          "base_uri": "https://localhost:8080/"
        },
        "id": "zX1dxPJ6Bh7u",
        "outputId": "3c7032d5-0ae2-4cf9-d150-47c8f6afed5d"
      },
      "execution_count": null,
      "outputs": [
        {
          "output_type": "stream",
          "name": "stdout",
          "text": [
            "enter the string : racecar\n",
            "it is a palindrome\n"
          ]
        }
      ]
    },
    {
      "cell_type": "code",
      "source": [
        "# we are generatly doing an backgriuo program of split() frunction\n",
        "s = input(\"enter the string : \")\n",
        "l = []\n",
        "temp = \"\"\n",
        "\n",
        "for i in s:\n",
        "  if i == ' ':\n",
        "    l.append(temp)\n",
        "    temp = \"\"\n",
        "  else:\n",
        "    temp = temp + i\n",
        "\n",
        "l.append(temp)\n",
        "print(l)\n",
        "\n",
        "\n"
      ],
      "metadata": {
        "colab": {
          "base_uri": "https://localhost:8080/"
        },
        "id": "OxzjMX_rIwjN",
        "outputId": "8cd9e3f7-3baf-4b4e-ff0a-e2953f6a5640"
      },
      "execution_count": null,
      "outputs": [
        {
          "output_type": "stream",
          "name": "stdout",
          "text": [
            "enter the string : hello my name is aman\n",
            "['hello', 'my', 'name', 'is', 'aman']\n"
          ]
        }
      ]
    },
    {
      "cell_type": "code",
      "source": [
        "s = input(\"enter the string : \")\n",
        "L = []\n",
        "temp = ''\n",
        "for i in s:\n",
        "  if i != ' ':\n",
        "    temp += i\n",
        "  else:\n",
        "    temp = temp.capitalize()\n",
        "    L.append(temp)\n",
        "    temp = ''\n",
        "\n",
        "L.append(temp.capitalize())\n",
        "print(' '.join(L))\n"
      ],
      "metadata": {
        "colab": {
          "base_uri": "https://localhost:8080/"
        },
        "id": "rtYxAaDPLl-P",
        "outputId": "e5f6047b-26f8-4848-a864-9ff743537652"
      },
      "execution_count": null,
      "outputs": [
        {
          "output_type": "stream",
          "name": "stdout",
          "text": [
            "enter the string : AmAN adItYa moURya\n",
            "Aman Aditya Mourya\n"
          ]
        }
      ]
    },
    {
      "cell_type": "code",
      "source": [
        "s = input(\"enter the string : \")\n",
        "\n",
        "L = []\n",
        "for i in s.split():\n",
        "  L.append(i[0].upper() + i[1:].lower())\n",
        "\n",
        "print(' '.join(L))\n",
        "\n",
        "\n",
        "\n",
        "\n"
      ],
      "metadata": {
        "colab": {
          "base_uri": "https://localhost:8080/"
        },
        "id": "Q2SVWDqtibYv",
        "outputId": "f8ec165a-a42e-4757-efa4-248b162eb1fb"
      },
      "execution_count": null,
      "outputs": [
        {
          "output_type": "stream",
          "name": "stdout",
          "text": [
            "enter the string : mY nAME iS aMAN aDITYA mOURYA\n",
            "My Name Is Aman Aditya Mourya\n"
          ]
        }
      ]
    },
    {
      "cell_type": "code",
      "source": [
        "number = int(input(\"enter the number : \"))\n",
        "\n",
        "digits = (\"0123456789\")\n",
        "result = ''\n",
        "while number != 0:\n",
        "  result = digits[number % 10 ] + result\n",
        "  number = number//10\n",
        "\n",
        "print(result)\n",
        "print(type(result))\n",
        "\n",
        "\n",
        "\n"
      ],
      "metadata": {
        "colab": {
          "base_uri": "https://localhost:8080/"
        },
        "id": "1s1ImcghlsyC",
        "outputId": "7cc42702-1122-49f4-e420-bfcbacc5555c"
      },
      "execution_count": null,
      "outputs": [
        {
          "output_type": "stream",
          "name": "stdout",
          "text": [
            "enter the number : 1234\n",
            "1234\n",
            "<class 'str'>\n"
          ]
        }
      ]
    }
  ]
}